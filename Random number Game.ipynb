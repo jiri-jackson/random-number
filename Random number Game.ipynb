{
 "cells": [
  {
   "cell_type": "code",
   "execution_count": 2,
   "id": "ec41c3c5",
   "metadata": {},
   "outputs": [
    {
     "name": "stdout",
     "output_type": "stream",
     "text": [
      "take a guess:10\n",
      "You got it!\n"
     ]
    }
   ],
   "source": [
    "target =10\n",
    "userguess = input('take a guess:')\n",
    "userguess = int(userguess)\n",
    "if userguess == target:\n",
    "    print('You got it!')\n",
    "elif userguess < target:\n",
    "    print('Your guess was too low')\n",
    "else:\n",
    "    print('Your guess was too high')"
   ]
  },
  {
   "cell_type": "code",
   "execution_count": 4,
   "id": "96a9c605",
   "metadata": {},
   "outputs": [
    {
     "name": "stdout",
     "output_type": "stream",
     "text": [
      "Take a guess: 7\n",
      "Your guess was too low\n",
      "Take a guess: 12\n",
      "Your guess was too high\n",
      "Take a guess: 16\n",
      "Your guess was too high\n",
      "Take a guess: 5\n",
      "Your guess was too low\n",
      "Take a guess: 4\n",
      "Your guess was too low\n",
      "sorry, you did not get it in 5 guesses\n",
      "The number was : 10\n",
      "Thanks for playing\n",
      "Take a guess: 10\n",
      "you got it!\n",
      "It only took you 6 guess(es)\n"
     ]
    }
   ],
   "source": [
    "target = 10\n",
    "guesscounter = 0\n",
    "while True:\n",
    "    userguess = input('Take a guess: ')\n",
    "    userguess = int(userguess)\n",
    "    guesscounter = guesscounter + 1\n",
    "    if userguess == target:\n",
    "        print('you got it!')\n",
    "        print('It only took you', guesscounter, 'guess(es)')\n",
    "        break\n",
    "    elif userguess < target:\n",
    "        print('Your guess was too low')\n",
    "    else:\n",
    "        print('Your guess was too high')\n",
    "    if guesscounter == 5:\n",
    "        print('sorry, you did not get it in 5 guesses')\n",
    "        print('The number was :', target)\n",
    "        print('Thanks for playing')"
   ]
  },
  {
   "cell_type": "code",
   "execution_count": 1,
   "id": "ec68581d",
   "metadata": {},
   "outputs": [
    {
     "name": "stdout",
     "output_type": "stream",
     "text": [
      "Welcome to my guess the Number program\n",
      "Guess my number between 1 and 20\n",
      "You will have 5 guesses\n",
      "Take a guess: 7\n",
      "Your guess was too low\n",
      "Take a guess: 12\n",
      "Your guess was too low\n",
      "Take a guess: 10\n",
      "Your guess was too low\n",
      "Take a guess: 8\n",
      "Your guess was too low\n",
      "Take a guess: 15\n",
      "Your guess was too high\n",
      "sorry, you did not get it in 5 guesses\n",
      "The number was: 14\n",
      "Thanks for playing\n"
     ]
    }
   ],
   "source": [
    "import random\n",
    "max_guess = 5\n",
    "max_range = 20\n",
    "print('Welcome to my guess the Number program')\n",
    "print('Guess my number between 1 and', max_range)\n",
    "print('You will have', max_guess, 'guesses')\n",
    "target = random.randrange(1, max_range + 1)\n",
    "guesscounter = 0\n",
    "while True:\n",
    "    userguess = input('Take a guess: ')\n",
    "    userguess = int(userguess)\n",
    "    guesscounter = guesscounter + 1\n",
    "    if userguess == target:\n",
    "        print('You got it!')\n",
    "        print('It only took you', guesscounter, 'guesses')\n",
    "        break\n",
    "    elif userguess < target:\n",
    "        print('Your guess was too low')\n",
    "    else:\n",
    "        print('Your guess was too high')\n",
    "    if guesscounter ==max_guess:\n",
    "        print('sorry, you did not get it in', max_guess, 'guesses')\n",
    "        print ('The number was:', target)\n",
    "        break\n",
    "print('Thanks for playing')        "
   ]
  },
  {
   "cell_type": "code",
   "execution_count": null,
   "id": "8888f628",
   "metadata": {},
   "outputs": [],
   "source": []
  }
 ],
 "metadata": {
  "kernelspec": {
   "display_name": "Python 3 (ipykernel)",
   "language": "python",
   "name": "python3"
  },
  "language_info": {
   "codemirror_mode": {
    "name": "ipython",
    "version": 3
   },
   "file_extension": ".py",
   "mimetype": "text/x-python",
   "name": "python",
   "nbconvert_exporter": "python",
   "pygments_lexer": "ipython3",
   "version": "3.9.7"
  }
 },
 "nbformat": 4,
 "nbformat_minor": 5
}
